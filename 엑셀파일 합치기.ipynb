{
 "cells": [
  {
   "cell_type": "code",
   "execution_count": 9,
   "id": "3f865d35",
   "metadata": {},
   "outputs": [
    {
     "name": "stdout",
     "output_type": "stream",
     "text": [
      "['.ipynb_checkpoints', '1.xlsx', '2.xlsx', '새 폴더', '엑셀파일 합치기.ipynb']\n"
     ]
    }
   ],
   "source": [
    "#엑셀파일 합치기\n",
    "\n",
    "import os\n",
    "import pandas as pd\n",
    "cwd = os.path.abspath('') \n",
    "files = os.listdir(cwd)  \n",
    "print(files)\n",
    "\n",
    "df = pd.DataFrame()\n",
    "for file in files:\n",
    "    if file.endswith('.xlsx'):\n",
    "        df = df.append(pd.read_excel(file), ignore_index=true) \n",
    "df.head() \n",
    "df.to_excel('total_sales.xlsx')"
   ]
  }
 ],
 "metadata": {
  "kernelspec": {
   "display_name": "Python 3 (ipykernel)",
   "language": "python",
   "name": "python3"
  },
  "language_info": {
   "codemirror_mode": {
    "name": "ipython",
    "version": 3
   },
   "file_extension": ".py",
   "mimetype": "text/x-python",
   "name": "python",
   "nbconvert_exporter": "python",
   "pygments_lexer": "ipython3",
   "version": "3.9.7"
  }
 },
 "nbformat": 4,
 "nbformat_minor": 5
}
